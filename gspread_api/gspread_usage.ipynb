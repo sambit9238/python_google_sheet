{
 "cells": [
  {
   "cell_type": "code",
   "execution_count": null,
   "metadata": {},
   "outputs": [],
   "source": [
    "# importing the required libraries\n",
    "import gspread\n",
    "import pandas as pd\n",
    "from oauth2client.service_account import ServiceAccountCredentials"
   ]
  },
  {
   "cell_type": "code",
   "execution_count": null,
   "metadata": {},
   "outputs": [],
   "source": [
    "\n",
    "# define the scope\n",
    "scope = ['https://spreadsheets.google.com/feeds',\n",
    "'https://www.googleapis.com/auth/drive']\n",
    "\n",
    "# add credentials to the account\n",
    "creds = ServiceAccountCredentials.from_json_keyfile_name('covid-19-tracker-62107-ab81ba9976a8.json', scope)\n",
    "\n",
    "# authorize the clientsheet \n",
    "client = gspread.authorize(creds)"
   ]
  },
  {
   "cell_type": "code",
   "execution_count": null,
   "metadata": {},
   "outputs": [],
   "source": [
    "# get the instance of the Spreadsheet\n",
    "sheet = client.open('Gender Neutral Words Dictionary')\n",
    "\n",
    "# get the first sheet of the Spreadsheet\n",
    "sheet_instance = sheet.get_worksheet(0)"
   ]
  },
  {
   "cell_type": "code",
   "execution_count": null,
   "metadata": {},
   "outputs": [],
   "source": [
    "# get the total number of columns\n",
    "sheet_instance.col_count\n",
    "## >> 26\n",
    "\n",
    "\n",
    "# get the value at the specific cell\n",
    "sheet_instance.cell(col=3,row=2)\n",
    "## >> <Cell R2C3 '63881'>"
   ]
  },
  {
   "cell_type": "code",
   "execution_count": null,
   "metadata": {},
   "outputs": [],
   "source": [
    "# get all the records of the data\n",
    "records_data = sheet_instance.get_all_records()\n",
    "\n",
    "# view the data\n",
    "records_data"
   ]
  },
  {
   "cell_type": "code",
   "execution_count": null,
   "metadata": {},
   "outputs": [],
   "source": [
    "# convert the json to dataframe\n",
    "records_df = pd.DataFrame.from_dict(records_data)\n",
    "\n",
    "# view the top records\n",
    "records_df.head()"
   ]
  },
  {
   "cell_type": "code",
   "execution_count": null,
   "metadata": {},
   "outputs": [],
   "source": [
    "# add a sheet with 20 rows and 2 columns\n",
    "sheet.add_worksheet(rows=20,cols=2,title='runs')\n",
    "\n",
    "# get the instance of the second sheet\n",
    "sheet_runs = sheet.get_worksheet(1)"
   ]
  },
  {
   "cell_type": "code",
   "execution_count": null,
   "metadata": {},
   "outputs": [],
   "source": [
    "runs = pd.DataFrame()\n",
    "runs['name'] = ['test']*20"
   ]
  },
  {
   "cell_type": "code",
   "execution_count": null,
   "metadata": {},
   "outputs": [],
   "source": [
    "sheet_runs.insert_rows(runs.values.tolist())"
   ]
  }
 ],
 "metadata": {
  "language_info": {
   "name": "python"
  },
  "orig_nbformat": 4
 },
 "nbformat": 4,
 "nbformat_minor": 2
}
